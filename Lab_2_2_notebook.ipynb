{
 "cells": [
  {
   "cell_type": "code",
   "execution_count": 1,
   "id": "b21be645-b0b2-4e6c-9eba-080450073d86",
   "metadata": {},
   "outputs": [],
   "source": [
    "import polars as pl"
   ]
  },
  {
   "cell_type": "code",
   "execution_count": 3,
   "id": "7344f831-cf27-4210-be18-c877ff9b6874",
   "metadata": {},
   "outputs": [
    {
     "data": {
      "text/html": [
       "<div><style>\n",
       ".dataframe > thead > tr,\n",
       ".dataframe > tbody > tr {\n",
       "  text-align: right;\n",
       "  white-space: pre-wrap;\n",
       "}\n",
       "</style>\n",
       "<small>shape: (5, 6)</small><table border=\"1\" class=\"dataframe\"><thead><tr><th>playerID</th><th>awardID</th><th>yearID</th><th>lgID</th><th>tie</th><th>notes</th></tr><tr><td>str</td><td>str</td><td>i64</td><td>str</td><td>str</td><td>str</td></tr></thead><tbody><tr><td>&quot;poseybu01&quot;</td><td>&quot;Lou Gehrig Memorial Award&quot;</td><td>2019</td><td>&quot;ML&quot;</td><td>null</td><td>null</td></tr><tr><td>&quot;klubeco01&quot;</td><td>&quot;Lou Gehrig Memorial Award&quot;</td><td>2018</td><td>&quot;ML&quot;</td><td>null</td><td>null</td></tr><tr><td>&quot;vottojo01&quot;</td><td>&quot;Lou Gehrig Memorial Award&quot;</td><td>2017</td><td>&quot;ML&quot;</td><td>null</td><td>null</td></tr><tr><td>&quot;altuvjo01&quot;</td><td>&quot;Lou Gehrig Memorial Award&quot;</td><td>2016</td><td>&quot;ML&quot;</td><td>null</td><td>null</td></tr><tr><td>&quot;grandcu01&quot;</td><td>&quot;Lou Gehrig Memorial Award&quot;</td><td>2015</td><td>&quot;ML&quot;</td><td>null</td><td>null</td></tr></tbody></table></div>"
      ],
      "text/plain": [
       "shape: (5, 6)\n",
       "┌───────────┬───────────────────────────┬────────┬──────┬──────┬───────┐\n",
       "│ playerID  ┆ awardID                   ┆ yearID ┆ lgID ┆ tie  ┆ notes │\n",
       "│ ---       ┆ ---                       ┆ ---    ┆ ---  ┆ ---  ┆ ---   │\n",
       "│ str       ┆ str                       ┆ i64    ┆ str  ┆ str  ┆ str   │\n",
       "╞═══════════╪═══════════════════════════╪════════╪══════╪══════╪═══════╡\n",
       "│ poseybu01 ┆ Lou Gehrig Memorial Award ┆ 2019   ┆ ML   ┆ null ┆ null  │\n",
       "│ klubeco01 ┆ Lou Gehrig Memorial Award ┆ 2018   ┆ ML   ┆ null ┆ null  │\n",
       "│ vottojo01 ┆ Lou Gehrig Memorial Award ┆ 2017   ┆ ML   ┆ null ┆ null  │\n",
       "│ altuvjo01 ┆ Lou Gehrig Memorial Award ┆ 2016   ┆ ML   ┆ null ┆ null  │\n",
       "│ grandcu01 ┆ Lou Gehrig Memorial Award ┆ 2015   ┆ ML   ┆ null ┆ null  │\n",
       "└───────────┴───────────────────────────┴────────┴──────┴──────┴───────┘"
      ]
     },
     "execution_count": 3,
     "metadata": {},
     "output_type": "execute_result"
    }
   ],
   "source": [
    "awards = pl.read_csv('./lahman_1871-2023_csv/AwardsPlayers.csv')\n",
    "awards.head()"
   ]
  },
  {
   "cell_type": "code",
   "execution_count": 2,
   "id": "a2d90d6f-fcec-4464-9fb8-4dde85908fcb",
   "metadata": {},
   "outputs": [
    {
     "data": {
      "text/html": [
       "<div><style>\n",
       ".dataframe > thead > tr,\n",
       ".dataframe > tbody > tr {\n",
       "  text-align: right;\n",
       "  white-space: pre-wrap;\n",
       "}\n",
       "</style>\n",
       "<small>shape: (5, 18)</small><table border=\"1\" class=\"dataframe\"><thead><tr><th>playerID</th><th>yearID</th><th>stint</th><th>teamID</th><th>lgID</th><th>POS</th><th>G</th><th>GS</th><th>InnOuts</th><th>PO</th><th>A</th><th>E</th><th>DP</th><th>PB</th><th>WP</th><th>SB</th><th>CS</th><th>ZR</th></tr><tr><td>str</td><td>i64</td><td>i64</td><td>str</td><td>str</td><td>str</td><td>i64</td><td>i64</td><td>i64</td><td>i64</td><td>i64</td><td>i64</td><td>i64</td><td>str</td><td>str</td><td>str</td><td>str</td><td>str</td></tr></thead><tbody><tr><td>&quot;aardsda01&quot;</td><td>2004</td><td>1</td><td>&quot;SFN&quot;</td><td>&quot;NL&quot;</td><td>&quot;P&quot;</td><td>11</td><td>0</td><td>32</td><td>0</td><td>0</td><td>0</td><td>0</td><td>null</td><td>null</td><td>null</td><td>null</td><td>null</td></tr><tr><td>&quot;aardsda01&quot;</td><td>2006</td><td>1</td><td>&quot;CHN&quot;</td><td>&quot;NL&quot;</td><td>&quot;P&quot;</td><td>45</td><td>0</td><td>159</td><td>1</td><td>5</td><td>0</td><td>1</td><td>null</td><td>null</td><td>null</td><td>null</td><td>null</td></tr><tr><td>&quot;aardsda01&quot;</td><td>2007</td><td>1</td><td>&quot;CHA&quot;</td><td>&quot;AL&quot;</td><td>&quot;P&quot;</td><td>25</td><td>0</td><td>97</td><td>2</td><td>4</td><td>1</td><td>0</td><td>null</td><td>null</td><td>null</td><td>null</td><td>null</td></tr><tr><td>&quot;aardsda01&quot;</td><td>2008</td><td>1</td><td>&quot;BOS&quot;</td><td>&quot;AL&quot;</td><td>&quot;P&quot;</td><td>47</td><td>0</td><td>146</td><td>3</td><td>6</td><td>0</td><td>0</td><td>null</td><td>null</td><td>null</td><td>null</td><td>null</td></tr><tr><td>&quot;aardsda01&quot;</td><td>2009</td><td>1</td><td>&quot;SEA&quot;</td><td>&quot;AL&quot;</td><td>&quot;P&quot;</td><td>73</td><td>0</td><td>214</td><td>2</td><td>5</td><td>0</td><td>1</td><td>null</td><td>null</td><td>null</td><td>null</td><td>null</td></tr></tbody></table></div>"
      ],
      "text/plain": [
       "shape: (5, 18)\n",
       "┌───────────┬────────┬───────┬────────┬───┬──────┬──────┬──────┬──────┐\n",
       "│ playerID  ┆ yearID ┆ stint ┆ teamID ┆ … ┆ WP   ┆ SB   ┆ CS   ┆ ZR   │\n",
       "│ ---       ┆ ---    ┆ ---   ┆ ---    ┆   ┆ ---  ┆ ---  ┆ ---  ┆ ---  │\n",
       "│ str       ┆ i64    ┆ i64   ┆ str    ┆   ┆ str  ┆ str  ┆ str  ┆ str  │\n",
       "╞═══════════╪════════╪═══════╪════════╪═══╪══════╪══════╪══════╪══════╡\n",
       "│ aardsda01 ┆ 2004   ┆ 1     ┆ SFN    ┆ … ┆ null ┆ null ┆ null ┆ null │\n",
       "│ aardsda01 ┆ 2006   ┆ 1     ┆ CHN    ┆ … ┆ null ┆ null ┆ null ┆ null │\n",
       "│ aardsda01 ┆ 2007   ┆ 1     ┆ CHA    ┆ … ┆ null ┆ null ┆ null ┆ null │\n",
       "│ aardsda01 ┆ 2008   ┆ 1     ┆ BOS    ┆ … ┆ null ┆ null ┆ null ┆ null │\n",
       "│ aardsda01 ┆ 2009   ┆ 1     ┆ SEA    ┆ … ┆ null ┆ null ┆ null ┆ null │\n",
       "└───────────┴────────┴───────┴────────┴───┴──────┴──────┴──────┴──────┘"
      ]
     },
     "execution_count": 2,
     "metadata": {},
     "output_type": "execute_result"
    }
   ],
   "source": [
    "fielders = pl.read_csv('./lahman_1871-2023_csv/Fielding.csv')\n",
    "fielders.head()\n"
   ]
  },
  {
   "cell_type": "code",
   "execution_count": 10,
   "id": "2b2fe3d0-51b9-4e07-afa5-8b486bd7d4d7",
   "metadata": {},
   "outputs": [
    {
     "data": {
      "text/html": [
       "<div><style>\n",
       ".dataframe > thead > tr,\n",
       ".dataframe > tbody > tr {\n",
       "  text-align: right;\n",
       "  white-space: pre-wrap;\n",
       "}\n",
       "</style>\n",
       "<small>shape: (103_940, 3)</small><table border=\"1\" class=\"dataframe\"><thead><tr><th>playerID</th><th>yearID</th><th>count_of_positions/teams</th></tr><tr><td>str</td><td>i64</td><td>u32</td></tr></thead><tbody><tr><td>&quot;galvipu01&quot;</td><td>1889</td><td>1</td></tr><tr><td>&quot;faheybi01&quot;</td><td>1971</td><td>1</td></tr><tr><td>&quot;huskebu01&quot;</td><td>1998</td><td>1</td></tr><tr><td>&quot;gibauia01&quot;</td><td>2020</td><td>1</td></tr><tr><td>&quot;baldwbi01&quot;</td><td>1976</td><td>1</td></tr><tr><td>&hellip;</td><td>&hellip;</td><td>&hellip;</td></tr><tr><td>&quot;seitzke01&quot;</td><td>1993</td><td>10</td></tr><tr><td>&quot;kellyki01&quot;</td><td>1891</td><td>10</td></tr><tr><td>&quot;bellda01&quot;</td><td>1998</td><td>10</td></tr><tr><td>&quot;mcallsp01&quot;</td><td>1902</td><td>13</td></tr><tr><td>&quot;changyu01&quot;</td><td>2022</td><td>13</td></tr></tbody></table></div>"
      ],
      "text/plain": [
       "shape: (103_940, 3)\n",
       "┌───────────┬────────┬──────────────────────────┐\n",
       "│ playerID  ┆ yearID ┆ count_of_positions/teams │\n",
       "│ ---       ┆ ---    ┆ ---                      │\n",
       "│ str       ┆ i64    ┆ u32                      │\n",
       "╞═══════════╪════════╪══════════════════════════╡\n",
       "│ galvipu01 ┆ 1889   ┆ 1                        │\n",
       "│ faheybi01 ┆ 1971   ┆ 1                        │\n",
       "│ huskebu01 ┆ 1998   ┆ 1                        │\n",
       "│ gibauia01 ┆ 2020   ┆ 1                        │\n",
       "│ baldwbi01 ┆ 1976   ┆ 1                        │\n",
       "│ …         ┆ …      ┆ …                        │\n",
       "│ seitzke01 ┆ 1993   ┆ 10                       │\n",
       "│ kellyki01 ┆ 1891   ┆ 10                       │\n",
       "│ bellda01  ┆ 1998   ┆ 10                       │\n",
       "│ mcallsp01 ┆ 1902   ┆ 13                       │\n",
       "│ changyu01 ┆ 2022   ┆ 13                       │\n",
       "└───────────┴────────┴──────────────────────────┘"
      ]
     },
     "execution_count": 10,
     "metadata": {},
     "output_type": "execute_result"
    }
   ],
   "source": [
    "(fielders\n",
    " .group_by(pl.col('playerID'),pl.col('yearID'))\n",
    ".agg(pl.col('stint').count().alias('count_of_positions/teams'))\n",
    ".sort(pl.col('count_of_positions/teams')))"
   ]
  },
  {
   "cell_type": "code",
   "execution_count": 5,
   "id": "e46b6602-8f49-46c4-bc4b-5142f600f050",
   "metadata": {},
   "outputs": [],
   "source": [
    "winners = (awards\n",
    " .filter(pl.col('notes') != 'null',pl.col('awardID') =='Gold Glove'))"
   ]
  },
  {
   "cell_type": "code",
   "execution_count": 30,
   "id": "408bfdfa-5ca0-4655-bfa3-029067022d7a",
   "metadata": {},
   "outputs": [
    {
     "name": "stdout",
     "output_type": "stream",
     "text": [
      "['playerID', 'yearID', 'stint', 'teamID', 'lgID', 'POS', 'G', 'GS', 'InnOuts', 'PO', 'A', 'E', 'DP', 'PB', 'WP', 'SB', 'CS', 'ZR']\n"
     ]
    }
   ],
   "source": [
    "print(fielders.columns)"
   ]
  },
  {
   "cell_type": "code",
   "execution_count": 21,
   "id": "e56d75a3-0f6e-48e5-96c7-99d451633185",
   "metadata": {},
   "outputs": [
    {
     "data": {
      "text/html": [
       "<div><style>\n",
       ".dataframe > thead > tr,\n",
       ".dataframe > tbody > tr {\n",
       "  text-align: right;\n",
       "  white-space: pre-wrap;\n",
       "}\n",
       "</style>\n",
       "<small>shape: (21_356, 21)</small><table border=\"1\" class=\"dataframe\"><thead><tr><th>playerID</th><th>yearID</th><th>lgID</th><th>POS</th><th>G</th><th>GS</th><th>InnOuts</th><th>PO</th><th>A</th><th>E</th><th>DP</th><th>PB</th><th>WP</th><th>SB</th><th>CS</th><th>ZR</th><th>awardID</th><th>lgID_right</th><th>tie</th><th>notes</th><th>Gold_Glove</th></tr><tr><td>str</td><td>i64</td><td>str</td><td>str</td><td>i64</td><td>i64</td><td>i64</td><td>i64</td><td>i64</td><td>i64</td><td>i64</td><td>str</td><td>str</td><td>str</td><td>str</td><td>str</td><td>str</td><td>str</td><td>str</td><td>str</td><td>str</td></tr></thead><tbody><tr><td>&quot;aardsda01&quot;</td><td>2015</td><td>&quot;NL&quot;</td><td>&quot;P&quot;</td><td>33</td><td>0</td><td>92</td><td>0</td><td>1</td><td>1</td><td>0</td><td>null</td><td>null</td><td>null</td><td>null</td><td>null</td><td>null</td><td>null</td><td>null</td><td>null</td><td>&quot;No&quot;</td></tr><tr><td>&quot;aardsda01&quot;</td><td>2013</td><td>&quot;NL&quot;</td><td>&quot;P&quot;</td><td>43</td><td>0</td><td>119</td><td>1</td><td>5</td><td>0</td><td>0</td><td>null</td><td>null</td><td>null</td><td>null</td><td>null</td><td>null</td><td>null</td><td>null</td><td>null</td><td>&quot;No&quot;</td></tr><tr><td>&quot;abadfe01&quot;</td><td>2023</td><td>&quot;NL&quot;</td><td>&quot;P&quot;</td><td>6</td><td>0</td><td>19</td><td>0</td><td>0</td><td>1</td><td>0</td><td>null</td><td>null</td><td>null</td><td>null</td><td>null</td><td>null</td><td>null</td><td>null</td><td>null</td><td>&quot;No&quot;</td></tr><tr><td>&quot;abadfe01&quot;</td><td>2019</td><td>&quot;NL&quot;</td><td>&quot;P&quot;</td><td>21</td><td>0</td><td>39</td><td>0</td><td>0</td><td>0</td><td>0</td><td>null</td><td>null</td><td>null</td><td>null</td><td>null</td><td>null</td><td>null</td><td>null</td><td>null</td><td>&quot;No&quot;</td></tr><tr><td>&quot;abadfe01&quot;</td><td>2021</td><td>&quot;AL&quot;</td><td>&quot;P&quot;</td><td>16</td><td>0</td><td>53</td><td>0</td><td>3</td><td>0</td><td>0</td><td>null</td><td>null</td><td>null</td><td>null</td><td>null</td><td>null</td><td>null</td><td>null</td><td>null</td><td>&quot;No&quot;</td></tr><tr><td>&hellip;</td><td>&hellip;</td><td>&hellip;</td><td>&hellip;</td><td>&hellip;</td><td>&hellip;</td><td>&hellip;</td><td>&hellip;</td><td>&hellip;</td><td>&hellip;</td><td>&hellip;</td><td>&hellip;</td><td>&hellip;</td><td>&hellip;</td><td>&hellip;</td><td>&hellip;</td><td>&hellip;</td><td>&hellip;</td><td>&hellip;</td><td>&hellip;</td><td>&hellip;</td></tr><tr><td>&quot;zuninmi01&quot;</td><td>2014</td><td>&quot;AL&quot;</td><td>&quot;C&quot;</td><td>130</td><td>125</td><td>3363</td><td>1010</td><td>84</td><td>5</td><td>5</td><td>null</td><td>null</td><td>null</td><td>null</td><td>null</td><td>null</td><td>null</td><td>null</td><td>null</td><td>&quot;No&quot;</td></tr><tr><td>&quot;zuninmi01&quot;</td><td>2016</td><td>&quot;AL&quot;</td><td>&quot;C&quot;</td><td>52</td><td>48</td><td>1331</td><td>400</td><td>15</td><td>0</td><td>0</td><td>null</td><td>null</td><td>null</td><td>null</td><td>null</td><td>null</td><td>null</td><td>null</td><td>null</td><td>&quot;No&quot;</td></tr><tr><td>&quot;zychto01&quot;</td><td>2017</td><td>&quot;AL&quot;</td><td>&quot;P&quot;</td><td>45</td><td>0</td><td>122</td><td>1</td><td>3</td><td>0</td><td>0</td><td>null</td><td>null</td><td>null</td><td>null</td><td>null</td><td>null</td><td>null</td><td>null</td><td>null</td><td>&quot;No&quot;</td></tr><tr><td>&quot;zychto01&quot;</td><td>2015</td><td>&quot;AL&quot;</td><td>&quot;P&quot;</td><td>13</td><td>1</td><td>55</td><td>0</td><td>3</td><td>0</td><td>0</td><td>null</td><td>null</td><td>null</td><td>null</td><td>null</td><td>null</td><td>null</td><td>null</td><td>null</td><td>&quot;No&quot;</td></tr><tr><td>&quot;zychto01&quot;</td><td>2016</td><td>&quot;AL&quot;</td><td>&quot;P&quot;</td><td>12</td><td>0</td><td>41</td><td>0</td><td>0</td><td>1</td><td>0</td><td>null</td><td>null</td><td>null</td><td>null</td><td>null</td><td>null</td><td>null</td><td>null</td><td>null</td><td>&quot;No&quot;</td></tr></tbody></table></div>"
      ],
      "text/plain": [
       "shape: (21_356, 21)\n",
       "┌───────────┬────────┬──────┬─────┬───┬────────────┬──────┬───────┬────────────┐\n",
       "│ playerID  ┆ yearID ┆ lgID ┆ POS ┆ … ┆ lgID_right ┆ tie  ┆ notes ┆ Gold_Glove │\n",
       "│ ---       ┆ ---    ┆ ---  ┆ --- ┆   ┆ ---        ┆ ---  ┆ ---   ┆ ---        │\n",
       "│ str       ┆ i64    ┆ str  ┆ str ┆   ┆ str        ┆ str  ┆ str   ┆ str        │\n",
       "╞═══════════╪════════╪══════╪═════╪═══╪════════════╪══════╪═══════╪════════════╡\n",
       "│ aardsda01 ┆ 2015   ┆ NL   ┆ P   ┆ … ┆ null       ┆ null ┆ null  ┆ No         │\n",
       "│ aardsda01 ┆ 2013   ┆ NL   ┆ P   ┆ … ┆ null       ┆ null ┆ null  ┆ No         │\n",
       "│ abadfe01  ┆ 2023   ┆ NL   ┆ P   ┆ … ┆ null       ┆ null ┆ null  ┆ No         │\n",
       "│ abadfe01  ┆ 2019   ┆ NL   ┆ P   ┆ … ┆ null       ┆ null ┆ null  ┆ No         │\n",
       "│ abadfe01  ┆ 2021   ┆ AL   ┆ P   ┆ … ┆ null       ┆ null ┆ null  ┆ No         │\n",
       "│ …         ┆ …      ┆ …    ┆ …   ┆ … ┆ …          ┆ …    ┆ …     ┆ …          │\n",
       "│ zuninmi01 ┆ 2014   ┆ AL   ┆ C   ┆ … ┆ null       ┆ null ┆ null  ┆ No         │\n",
       "│ zuninmi01 ┆ 2016   ┆ AL   ┆ C   ┆ … ┆ null       ┆ null ┆ null  ┆ No         │\n",
       "│ zychto01  ┆ 2017   ┆ AL   ┆ P   ┆ … ┆ null       ┆ null ┆ null  ┆ No         │\n",
       "│ zychto01  ┆ 2015   ┆ AL   ┆ P   ┆ … ┆ null       ┆ null ┆ null  ┆ No         │\n",
       "│ zychto01  ┆ 2016   ┆ AL   ┆ P   ┆ … ┆ null       ┆ null ┆ null  ┆ No         │\n",
       "└───────────┴────────┴──────┴─────┴───┴────────────┴──────┴───────┴────────────┘"
      ]
     },
     "execution_count": 21,
     "metadata": {},
     "output_type": "execute_result"
    }
   ],
   "source": [
    "(fielders\n",
    " .filter(pl.col('yearID') >= 2013)\n",
    " .group_by(pl.col('playerID','yearID','lgID','POS'))\n",
    " .agg(pl.col(['G', 'GS', 'InnOuts', 'PO', 'A', 'E', 'DP', 'PB', 'WP', 'SB', 'CS', 'ZR']).sum())\n",
    "# .agg(pl.col('G').sum(),pl.col('GS').sum(),pl.col('InnOuts').sum(),pl.col('PO').sum(),pl.col('A').sum(),pl.col('E').sum())\n",
    " .join(winners,on = ['playerID','yearID'],how='left')\n",
    ".with_columns(Gold_Glove = pl.when(pl.col('awardID') =='Gold Glove')\n",
    "                                .then(pl.lit('Yes'))\n",
    "                                .otherwise(pl.lit('No')))\n",
    ".sort(pl.col('playerID'))\n",
    ")"
   ]
  }
 ],
 "metadata": {
  "kernelspec": {
   "display_name": "Python 3 (ipykernel)",
   "language": "python",
   "name": "python3"
  },
  "language_info": {
   "codemirror_mode": {
    "name": "ipython",
    "version": 3
   },
   "file_extension": ".py",
   "mimetype": "text/x-python",
   "name": "python",
   "nbconvert_exporter": "python",
   "pygments_lexer": "ipython3",
   "version": "3.12.5"
  }
 },
 "nbformat": 4,
 "nbformat_minor": 5
}
